{
  "nbformat": 4,
  "nbformat_minor": 0,
  "metadata": {
    "colab": {
      "name": "ClassificadorDeVinhosMachineLearn",
      "provenance": [],
      "collapsed_sections": [],
      "mount_file_id": "1x7vNm8pc_U9F90rkGE5WOZX3MVNshP2Z",
      "authorship_tag": "ABX9TyMF/zdrahcmB86RDpM5Jexw",
      "include_colab_link": true
    },
    "kernelspec": {
      "name": "python3",
      "display_name": "Python 3"
    }
  },
  "cells": [
    {
      "cell_type": "markdown",
      "metadata": {
        "id": "view-in-github",
        "colab_type": "text"
      },
      "source": [
        "<a href=\"https://colab.research.google.com/github/AlessandroRossiUFF/ClassificadorDeVinhosPOO/blob/main/ClassificadorDeVinhosMachineLearn.ipynb\" target=\"_parent\"><img src=\"https://colab.research.google.com/assets/colab-badge.svg\" alt=\"Open In Colab\"/></a>"
      ]
    },
    {
      "cell_type": "code",
      "metadata": {
        "id": "a9d2wHt-pCon"
      },
      "source": [
        "import pandas as pd\r\n",
        "arquivo = pd.read_csv('/content/drive/MyDrive/Colab Notebooks/wine_dataset.csv')"
      ],
      "execution_count": 322,
      "outputs": []
    },
    {
      "cell_type": "code",
      "metadata": {
        "id": "qHKDErn-ChiX"
      },
      "source": [
        "class Classificacao:\r\n",
        "  testePreditores = pd.DataFrame({})\r\n",
        "  testeAlvos = []\r\n",
        "  previsoes = []\r\n",
        "  apuracia = 0\r\n",
        "  def Classificador(self, arquivo):\r\n",
        "    #Todos valores 'red' e 'white' na cluna 'style' do DataFrame 'arquivos' vão ser convertidos\r\n",
        "    #em 0 e 1,essa coluna só tem esses 2 valores.\r\n",
        "    arquivo['style'] = arquivo['style'].replace('red', 0)\r\n",
        "    arquivo['style'] = arquivo['style'].replace('white', 1)\r\n",
        "    #Vamos atribuir o valor da coluna style a variável y para nosso alvo,\r\n",
        "    #as demais colunas serão atribuidas a variável x para os nossos preditores.\r\n",
        "    y = arquivo['style']\r\n",
        "    x = arquivo.drop('style', axis = 1)\r\n",
        "    #Vamos importar a função train_test_split com o sklearn.\r\n",
        "    from sklearn.model_selection import train_test_split\r\n",
        "    #Usaremos a função train_test_split com os parâmetros x,y e test_size = 0.3 (Usaremos 0.3 do DataFrame para teste).\r\n",
        "    x_treino, x_teste, y_treino, y_teste = train_test_split(x, y, test_size = 0.3)\r\n",
        "    #Vamos importar nossa arvore de classificação.\r\n",
        "    from sklearn.ensemble import ExtraTreesClassifier\r\n",
        "    #Criaremos o modelo:\r\n",
        "    modelo = ExtraTreesClassifier()\r\n",
        "    modelo.fit(x_treino, y_treino)\r\n",
        "    #E agora salvamos nossos resultados e previsões.\r\n",
        "    classWine.testePreditores = x_teste[200:205]\r\n",
        "    classWine.testeAlvos = y_teste[200:205]\r\n",
        "    classWine.previsoes = modelo.predict(x_teste[200:205])\r\n",
        "    classWine.apuracia = modelo.score(x_teste, y_teste)\r\n",
        "\r\n",
        "classWine = Classificacao()"
      ],
      "execution_count": 323,
      "outputs": []
    },
    {
      "cell_type": "markdown",
      "metadata": {
        "id": "q1BmHWhtoeKA"
      },
      "source": [
        "#Aqui traremos aos resultados relativos aos preditores."
      ]
    },
    {
      "cell_type": "markdown",
      "metadata": {
        "id": "-mFesXXpquUv"
      },
      "source": [
        "###Começaremos com os resultados relativos a todos preditores."
      ]
    },
    {
      "cell_type": "code",
      "metadata": {
        "id": "xodg-jc4fw45"
      },
      "source": [
        "#Aqui criamos o objeto auxVinhos e o usamos para chamar a função Classificador\r\n",
        "#usando o data frame arquivo como parâmetro.\r\n",
        "#O data frame arquivo possui todos preditores,\r\n",
        "#portando nos dará os resultado relativo a todos preditores.\r\n",
        "auxVinhos = Classificacao()\r\n",
        "auxVinhos.Classificador(arquivo)"
      ],
      "execution_count": 324,
      "outputs": []
    },
    {
      "cell_type": "code",
      "metadata": {
        "colab": {
          "base_uri": "https://localhost:8080/",
          "height": 224
        },
        "id": "PZ1HnXVBapgj",
        "outputId": "a031becb-38b8-43bf-dcef-f7cc02396dcd"
      },
      "source": [
        "classWine.testePreditores"
      ],
      "execution_count": 325,
      "outputs": [
        {
          "output_type": "execute_result",
          "data": {
            "text/html": [
              "<div>\n",
              "<style scoped>\n",
              "    .dataframe tbody tr th:only-of-type {\n",
              "        vertical-align: middle;\n",
              "    }\n",
              "\n",
              "    .dataframe tbody tr th {\n",
              "        vertical-align: top;\n",
              "    }\n",
              "\n",
              "    .dataframe thead th {\n",
              "        text-align: right;\n",
              "    }\n",
              "</style>\n",
              "<table border=\"1\" class=\"dataframe\">\n",
              "  <thead>\n",
              "    <tr style=\"text-align: right;\">\n",
              "      <th></th>\n",
              "      <th>fixed_acidity</th>\n",
              "      <th>volatile_acidity</th>\n",
              "      <th>citric_acid</th>\n",
              "      <th>residual_sugar</th>\n",
              "      <th>chlorides</th>\n",
              "      <th>free_sulfur_dioxide</th>\n",
              "      <th>total_sulfur_dioxide</th>\n",
              "      <th>density</th>\n",
              "      <th>pH</th>\n",
              "      <th>sulphates</th>\n",
              "      <th>alcohol</th>\n",
              "      <th>quality</th>\n",
              "    </tr>\n",
              "  </thead>\n",
              "  <tbody>\n",
              "    <tr>\n",
              "      <th>5023</th>\n",
              "      <td>6.4</td>\n",
              "      <td>0.32</td>\n",
              "      <td>0.27</td>\n",
              "      <td>4.90</td>\n",
              "      <td>0.034</td>\n",
              "      <td>18.0</td>\n",
              "      <td>122.0</td>\n",
              "      <td>0.99160</td>\n",
              "      <td>3.36</td>\n",
              "      <td>0.71</td>\n",
              "      <td>12.5</td>\n",
              "      <td>6</td>\n",
              "    </tr>\n",
              "    <tr>\n",
              "      <th>5831</th>\n",
              "      <td>6.6</td>\n",
              "      <td>0.39</td>\n",
              "      <td>0.28</td>\n",
              "      <td>9.20</td>\n",
              "      <td>0.036</td>\n",
              "      <td>10.0</td>\n",
              "      <td>92.0</td>\n",
              "      <td>0.99206</td>\n",
              "      <td>3.07</td>\n",
              "      <td>0.35</td>\n",
              "      <td>12.1</td>\n",
              "      <td>6</td>\n",
              "    </tr>\n",
              "    <tr>\n",
              "      <th>50</th>\n",
              "      <td>8.8</td>\n",
              "      <td>0.66</td>\n",
              "      <td>0.26</td>\n",
              "      <td>1.70</td>\n",
              "      <td>0.074</td>\n",
              "      <td>4.0</td>\n",
              "      <td>23.0</td>\n",
              "      <td>0.99710</td>\n",
              "      <td>3.15</td>\n",
              "      <td>0.74</td>\n",
              "      <td>9.2</td>\n",
              "      <td>5</td>\n",
              "    </tr>\n",
              "    <tr>\n",
              "      <th>3188</th>\n",
              "      <td>7.0</td>\n",
              "      <td>0.27</td>\n",
              "      <td>0.74</td>\n",
              "      <td>1.50</td>\n",
              "      <td>0.036</td>\n",
              "      <td>27.0</td>\n",
              "      <td>122.0</td>\n",
              "      <td>0.99260</td>\n",
              "      <td>3.35</td>\n",
              "      <td>0.48</td>\n",
              "      <td>11.2</td>\n",
              "      <td>6</td>\n",
              "    </tr>\n",
              "    <tr>\n",
              "      <th>2844</th>\n",
              "      <td>8.0</td>\n",
              "      <td>0.66</td>\n",
              "      <td>0.72</td>\n",
              "      <td>17.55</td>\n",
              "      <td>0.042</td>\n",
              "      <td>62.0</td>\n",
              "      <td>233.0</td>\n",
              "      <td>0.99990</td>\n",
              "      <td>2.92</td>\n",
              "      <td>0.68</td>\n",
              "      <td>9.4</td>\n",
              "      <td>4</td>\n",
              "    </tr>\n",
              "  </tbody>\n",
              "</table>\n",
              "</div>"
            ],
            "text/plain": [
              "      fixed_acidity  volatile_acidity  citric_acid  ...  sulphates  alcohol  quality\n",
              "5023            6.4              0.32         0.27  ...       0.71     12.5        6\n",
              "5831            6.6              0.39         0.28  ...       0.35     12.1        6\n",
              "50              8.8              0.66         0.26  ...       0.74      9.2        5\n",
              "3188            7.0              0.27         0.74  ...       0.48     11.2        6\n",
              "2844            8.0              0.66         0.72  ...       0.68      9.4        4\n",
              "\n",
              "[5 rows x 12 columns]"
            ]
          },
          "metadata": {
            "tags": []
          },
          "execution_count": 325
        }
      ]
    },
    {
      "cell_type": "code",
      "metadata": {
        "colab": {
          "base_uri": "https://localhost:8080/"
        },
        "id": "jpGPegZZeQVR",
        "outputId": "8005da33-59b4-4b2f-c3ff-366ca7206d30"
      },
      "source": [
        "classWine.testeAlvos"
      ],
      "execution_count": 326,
      "outputs": [
        {
          "output_type": "execute_result",
          "data": {
            "text/plain": [
              "5023    1\n",
              "5831    1\n",
              "50      0\n",
              "3188    1\n",
              "2844    1\n",
              "Name: style, dtype: int64"
            ]
          },
          "metadata": {
            "tags": []
          },
          "execution_count": 326
        }
      ]
    },
    {
      "cell_type": "code",
      "metadata": {
        "colab": {
          "base_uri": "https://localhost:8080/"
        },
        "id": "gFiT0om0hCJt",
        "outputId": "c60413b7-4f70-4cd4-c1b2-5f36ad7c4bda"
      },
      "source": [
        "classWine.previsoes"
      ],
      "execution_count": 327,
      "outputs": [
        {
          "output_type": "execute_result",
          "data": {
            "text/plain": [
              "array([1, 1, 0, 1, 1])"
            ]
          },
          "metadata": {
            "tags": []
          },
          "execution_count": 327
        }
      ]
    },
    {
      "cell_type": "code",
      "metadata": {
        "colab": {
          "base_uri": "https://localhost:8080/"
        },
        "id": "N-PMtsjxh-Wi",
        "outputId": "ba9c2043-c6b1-4cd6-d644-1f92e3839bd2"
      },
      "source": [
        "print(f'A acurácia com todos preditores foi de {classWine.apuracia}')"
      ],
      "execution_count": 328,
      "outputs": [
        {
          "output_type": "stream",
          "text": [
            "A acurácia com todos preditores foi de 0.9969230769230769\n"
          ],
          "name": "stdout"
        }
      ]
    },
    {
      "cell_type": "markdown",
      "metadata": {
        "id": "1cc6TSIfoIPX"
      },
      "source": [
        "###Aqui traremos os resultados relativos apenas ao preditor pH."
      ]
    },
    {
      "cell_type": "code",
      "metadata": {
        "id": "3TUpQuc-iO1w"
      },
      "source": [
        "#Aqui usaremos a variável auxVinhos novamente,porém usando apenas as colunas 'pH' e 'style' do data frame arquivo.\r\n",
        "#arquivo como parâmetros na chamada da função Classificador,\r\n",
        "#isso nos dará o resultado respectivo apenas a essas duas colunas.\r\n",
        "auxVinhos = Classificacao()\r\n",
        "auxVinhos.Classificador(arquivo.loc[0:, ['pH','style']])"
      ],
      "execution_count": 329,
      "outputs": []
    },
    {
      "cell_type": "code",
      "metadata": {
        "colab": {
          "base_uri": "https://localhost:8080/",
          "height": 204
        },
        "id": "W8Mw0UKaoE1e",
        "outputId": "7b708518-afaf-46b8-8255-31c646f01dbd"
      },
      "source": [
        "classWine.testePreditores"
      ],
      "execution_count": 330,
      "outputs": [
        {
          "output_type": "execute_result",
          "data": {
            "text/html": [
              "<div>\n",
              "<style scoped>\n",
              "    .dataframe tbody tr th:only-of-type {\n",
              "        vertical-align: middle;\n",
              "    }\n",
              "\n",
              "    .dataframe tbody tr th {\n",
              "        vertical-align: top;\n",
              "    }\n",
              "\n",
              "    .dataframe thead th {\n",
              "        text-align: right;\n",
              "    }\n",
              "</style>\n",
              "<table border=\"1\" class=\"dataframe\">\n",
              "  <thead>\n",
              "    <tr style=\"text-align: right;\">\n",
              "      <th></th>\n",
              "      <th>pH</th>\n",
              "    </tr>\n",
              "  </thead>\n",
              "  <tbody>\n",
              "    <tr>\n",
              "      <th>1590</th>\n",
              "      <td>3.32</td>\n",
              "    </tr>\n",
              "    <tr>\n",
              "      <th>3568</th>\n",
              "      <td>3.53</td>\n",
              "    </tr>\n",
              "    <tr>\n",
              "      <th>2106</th>\n",
              "      <td>3.64</td>\n",
              "    </tr>\n",
              "    <tr>\n",
              "      <th>5058</th>\n",
              "      <td>2.99</td>\n",
              "    </tr>\n",
              "    <tr>\n",
              "      <th>2627</th>\n",
              "      <td>3.41</td>\n",
              "    </tr>\n",
              "  </tbody>\n",
              "</table>\n",
              "</div>"
            ],
            "text/plain": [
              "        pH\n",
              "1590  3.32\n",
              "3568  3.53\n",
              "2106  3.64\n",
              "5058  2.99\n",
              "2627  3.41"
            ]
          },
          "metadata": {
            "tags": []
          },
          "execution_count": 330
        }
      ]
    },
    {
      "cell_type": "code",
      "metadata": {
        "colab": {
          "base_uri": "https://localhost:8080/"
        },
        "id": "8JZRsisMpEXF",
        "outputId": "2f986754-9091-4c44-d4e6-254108aab491"
      },
      "source": [
        "classWine.testeAlvos"
      ],
      "execution_count": 331,
      "outputs": [
        {
          "output_type": "execute_result",
          "data": {
            "text/plain": [
              "1590    0\n",
              "3568    1\n",
              "2106    1\n",
              "5058    1\n",
              "2627    1\n",
              "Name: style, dtype: int64"
            ]
          },
          "metadata": {
            "tags": []
          },
          "execution_count": 331
        }
      ]
    },
    {
      "cell_type": "code",
      "metadata": {
        "colab": {
          "base_uri": "https://localhost:8080/"
        },
        "id": "8o3-9Ns5pM0e",
        "outputId": "7b74ad76-1696-4519-a442-ead133b81c38"
      },
      "source": [
        "classWine.previsoes"
      ],
      "execution_count": 332,
      "outputs": [
        {
          "output_type": "execute_result",
          "data": {
            "text/plain": [
              "array([1, 0, 1, 1, 0])"
            ]
          },
          "metadata": {
            "tags": []
          },
          "execution_count": 332
        }
      ]
    },
    {
      "cell_type": "code",
      "metadata": {
        "colab": {
          "base_uri": "https://localhost:8080/"
        },
        "id": "KQxkzBaOPmSE",
        "outputId": "c167fe6e-3c4a-49de-928d-1c4ebaee9c3f"
      },
      "source": [
        "print(f'A acurácia usando apenas o preditor \"pH\" foi de {classWine.apuracia}')"
      ],
      "execution_count": 333,
      "outputs": [
        {
          "output_type": "stream",
          "text": [
            "A acurácia usando apenas o preditor \"pH\" foi de 0.7471794871794872\n"
          ],
          "name": "stdout"
        }
      ]
    },
    {
      "cell_type": "markdown",
      "metadata": {
        "id": "7rjgDvIgpgNN"
      },
      "source": [
        "##Como podemos ver,o preditor pH é o que tem mais peso pois sozinho já representa mais da metade da acurácia total.\r\n",
        "##Abaixo vamos imprimir a taxa de acurácia relativa a alguns dos outros preditores,podemos fazer com todos mas usaremos apenas alguns exemplos."
      ]
    },
    {
      "cell_type": "code",
      "metadata": {
        "colab": {
          "base_uri": "https://localhost:8080/"
        },
        "id": "zVaLUSjWrX9Y",
        "outputId": "b7823b16-ab5e-492a-87bc-276d2526599e"
      },
      "source": [
        "#Aqui vamos obter a taxa de acurácia relativa ao preditor alcohol\r\n",
        "auxVinhosPH = Classificacao()\r\n",
        "auxVinhosPH.Classificador(arquivo.loc[0:, ['alcohol','style']])\r\n",
        "print(f'A acurácia usando apenas o preditor \"alcohol\" foi de {classWine.apuracia}')"
      ],
      "execution_count": 334,
      "outputs": [
        {
          "output_type": "stream",
          "text": [
            "A acurácia usando apenas o preditor \"alcohol\" foi de 0.7441025641025641\n"
          ],
          "name": "stdout"
        }
      ]
    },
    {
      "cell_type": "code",
      "metadata": {
        "colab": {
          "base_uri": "https://localhost:8080/"
        },
        "id": "RRMbvaulspRK",
        "outputId": "352f9405-c9fd-4e6e-df1f-e7733ed9e66f"
      },
      "source": [
        "#Aqui vamos obter a taxa de acurácia relativa ao preditor fixed_acidity\r\n",
        "auxVinhosPH = Classificacao()\r\n",
        "auxVinhosPH.Classificador(arquivo.loc[0:, ['fixed_acidity','style']])\r\n",
        "print(f'A acurácia usando apenas o preditor \"fixed_acidity\" foi de {classWine.apuracia}')"
      ],
      "execution_count": 335,
      "outputs": [
        {
          "output_type": "stream",
          "text": [
            "A acurácia usando apenas o preditor \"fixed_acidity\" foi de 0.8205128205128205\n"
          ],
          "name": "stdout"
        }
      ]
    },
    {
      "cell_type": "code",
      "metadata": {
        "colab": {
          "base_uri": "https://localhost:8080/"
        },
        "id": "UYgSL7R4s9cC",
        "outputId": "664eac46-9ec7-450f-e07e-82f68adf8ecd"
      },
      "source": [
        "#Aqui vamos obter a taxa de acurácia relativa ao preditor total_sulfur_dioxide\r\n",
        "auxVinhosPH = Classificacao()\r\n",
        "auxVinhosPH.Classificador(arquivo.loc[0:, ['total_sulfur_dioxide','style']])\r\n",
        "print(f'A acurácia usando o preditor \"total_sulfur_dioxide\" foi de {classWine.apuracia}')"
      ],
      "execution_count": 336,
      "outputs": [
        {
          "output_type": "stream",
          "text": [
            "A acurácia usando o preditor \"total_sulfur_dioxide\" foi de 0.9123076923076923\n"
          ],
          "name": "stdout"
        }
      ]
    },
    {
      "cell_type": "markdown",
      "metadata": {
        "id": "I-BJhqJ2uhCv"
      },
      "source": [
        "A taxa de acurácia usando os preditores alcohol e quality fica sempre com um valor o menor valor,próximo a 0.75.\r\n",
        "A acurácia com o preditor fixed_acidity fica próxima de 0.8 e com o preditor total_sulfur_dioxide fica próxima de 0.9.\r\n",
        "\r\n",
        "O resultado mais eficiente com apenas um preditor foi quando usamos o preditor total_sulfur_dioxide."
      ]
    }
  ]
}