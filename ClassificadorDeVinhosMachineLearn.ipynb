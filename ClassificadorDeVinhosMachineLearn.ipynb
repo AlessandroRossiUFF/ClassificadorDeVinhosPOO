{
  "nbformat": 4,
  "nbformat_minor": 0,
  "metadata": {
    "colab": {
      "name": "ClassificadorDeVinhosMachineLearn",
      "provenance": [],
      "collapsed_sections": [],
      "mount_file_id": "1x7vNm8pc_U9F90rkGE5WOZX3MVNshP2Z",
      "authorship_tag": "ABX9TyMNeoCCdLdi3bpVw5Qndwqn",
      "include_colab_link": true
    },
    "kernelspec": {
      "name": "python3",
      "display_name": "Python 3"
    }
  },
  "cells": [
    {
      "cell_type": "markdown",
      "metadata": {
        "id": "view-in-github",
        "colab_type": "text"
      },
      "source": [
        "<a href=\"https://colab.research.google.com/github/AlessandroRossiUFF/ClassificadorDeVinhosPOO/blob/main/ClassificadorDeVinhosMachineLearn.ipynb\" target=\"_parent\"><img src=\"https://colab.research.google.com/assets/colab-badge.svg\" alt=\"Open In Colab\"/></a>"
      ]
    },
    {
      "cell_type": "code",
      "metadata": {
        "id": "a9d2wHt-pCon"
      },
      "source": [
        "import pandas as pd\r\n",
        "arquivo = pd.read_csv('/content/drive/MyDrive/Colab Notebooks/wine_dataset.csv')"
      ],
      "execution_count": 338,
      "outputs": []
    },
    {
      "cell_type": "code",
      "metadata": {
        "id": "qHKDErn-ChiX"
      },
      "source": [
        "class Classificacao:\r\n",
        "  testePreditores = pd.DataFrame({})\r\n",
        "  testeAlvos = []\r\n",
        "  previsoes = []\r\n",
        "  apuracia = 0\r\n",
        "  def Classificador(self, arquivo):\r\n",
        "    #Todos valores 'red' e 'white' na cluna 'style' do DataFrame 'arquivos' vão ser convertidos\r\n",
        "    #em 0 e 1,essa coluna só tem esses 2 valores.\r\n",
        "    arquivo['style'] = arquivo['style'].replace('red', 0)\r\n",
        "    arquivo['style'] = arquivo['style'].replace('white', 1)\r\n",
        "    #Vamos atribuir o valor da coluna style a variável y para nosso alvo,\r\n",
        "    #as demais colunas serão atribuidas a variável x para os nossos preditores.\r\n",
        "    y = arquivo['style']\r\n",
        "    x = arquivo.drop('style', axis = 1)\r\n",
        "    #Vamos importar a função train_test_split com o sklearn.\r\n",
        "    from sklearn.model_selection import train_test_split\r\n",
        "    #Usaremos a função train_test_split com os parâmetros x,y e test_size = 0.3 (Usaremos 0.3 do DataFrame para teste).\r\n",
        "    x_treino, x_teste, y_treino, y_teste = train_test_split(x, y, test_size = 0.3)\r\n",
        "    #Vamos importar nossa arvore de classificação.\r\n",
        "    from sklearn.ensemble import ExtraTreesClassifier\r\n",
        "    #Criaremos o modelo:\r\n",
        "    modelo = ExtraTreesClassifier()\r\n",
        "    modelo.fit(x_treino, y_treino)\r\n",
        "    #E agora salvamos nossos resultados e previsões.\r\n",
        "    classWine.testePreditores = x_teste[200:205]\r\n",
        "    classWine.testeAlvos = y_teste[200:205]\r\n",
        "    classWine.previsoes = modelo.predict(x_teste[200:205])\r\n",
        "    classWine.apuracia = modelo.score(x_teste, y_teste)\r\n",
        "\r\n",
        "classWine = Classificacao()"
      ],
      "execution_count": 339,
      "outputs": []
    },
    {
      "cell_type": "markdown",
      "metadata": {
        "id": "q1BmHWhtoeKA"
      },
      "source": [
        "#Aqui traremos os resultados relativos aos preditores."
      ]
    },
    {
      "cell_type": "markdown",
      "metadata": {
        "id": "-mFesXXpquUv"
      },
      "source": [
        "###Começaremos com os resultados relativos a todos preditores."
      ]
    },
    {
      "cell_type": "code",
      "metadata": {
        "id": "xodg-jc4fw45"
      },
      "source": [
        "#Aqui criamos o objeto auxVinhos e o usamos para chamar a função Classificador\r\n",
        "#usando o data frame arquivo como parâmetro.\r\n",
        "#O data frame arquivo possui todos preditores,\r\n",
        "#portando nos dará os resultado relativo a todos preditores.\r\n",
        "auxVinhos = Classificacao()\r\n",
        "auxVinhos.Classificador(arquivo)"
      ],
      "execution_count": 340,
      "outputs": []
    },
    {
      "cell_type": "code",
      "metadata": {
        "colab": {
          "base_uri": "https://localhost:8080/",
          "height": 224
        },
        "id": "PZ1HnXVBapgj",
        "outputId": "91f24369-e47f-43f4-b46f-eb5a1570dd08"
      },
      "source": [
        "classWine.testePreditores"
      ],
      "execution_count": 341,
      "outputs": [
        {
          "output_type": "execute_result",
          "data": {
            "text/html": [
              "<div>\n",
              "<style scoped>\n",
              "    .dataframe tbody tr th:only-of-type {\n",
              "        vertical-align: middle;\n",
              "    }\n",
              "\n",
              "    .dataframe tbody tr th {\n",
              "        vertical-align: top;\n",
              "    }\n",
              "\n",
              "    .dataframe thead th {\n",
              "        text-align: right;\n",
              "    }\n",
              "</style>\n",
              "<table border=\"1\" class=\"dataframe\">\n",
              "  <thead>\n",
              "    <tr style=\"text-align: right;\">\n",
              "      <th></th>\n",
              "      <th>fixed_acidity</th>\n",
              "      <th>volatile_acidity</th>\n",
              "      <th>citric_acid</th>\n",
              "      <th>residual_sugar</th>\n",
              "      <th>chlorides</th>\n",
              "      <th>free_sulfur_dioxide</th>\n",
              "      <th>total_sulfur_dioxide</th>\n",
              "      <th>density</th>\n",
              "      <th>pH</th>\n",
              "      <th>sulphates</th>\n",
              "      <th>alcohol</th>\n",
              "      <th>quality</th>\n",
              "    </tr>\n",
              "  </thead>\n",
              "  <tbody>\n",
              "    <tr>\n",
              "      <th>1840</th>\n",
              "      <td>7.7</td>\n",
              "      <td>0.31</td>\n",
              "      <td>0.26</td>\n",
              "      <td>7.80</td>\n",
              "      <td>0.031</td>\n",
              "      <td>23.0</td>\n",
              "      <td>90.0</td>\n",
              "      <td>0.99440</td>\n",
              "      <td>3.13</td>\n",
              "      <td>0.50</td>\n",
              "      <td>10.4</td>\n",
              "      <td>5</td>\n",
              "    </tr>\n",
              "    <tr>\n",
              "      <th>1974</th>\n",
              "      <td>5.1</td>\n",
              "      <td>0.33</td>\n",
              "      <td>0.22</td>\n",
              "      <td>1.60</td>\n",
              "      <td>0.027</td>\n",
              "      <td>18.0</td>\n",
              "      <td>89.0</td>\n",
              "      <td>0.98930</td>\n",
              "      <td>3.51</td>\n",
              "      <td>0.38</td>\n",
              "      <td>12.5</td>\n",
              "      <td>7</td>\n",
              "    </tr>\n",
              "    <tr>\n",
              "      <th>1016</th>\n",
              "      <td>8.9</td>\n",
              "      <td>0.38</td>\n",
              "      <td>0.40</td>\n",
              "      <td>2.20</td>\n",
              "      <td>0.068</td>\n",
              "      <td>12.0</td>\n",
              "      <td>28.0</td>\n",
              "      <td>0.99486</td>\n",
              "      <td>3.27</td>\n",
              "      <td>0.75</td>\n",
              "      <td>12.6</td>\n",
              "      <td>7</td>\n",
              "    </tr>\n",
              "    <tr>\n",
              "      <th>1633</th>\n",
              "      <td>5.8</td>\n",
              "      <td>0.27</td>\n",
              "      <td>0.20</td>\n",
              "      <td>14.95</td>\n",
              "      <td>0.044</td>\n",
              "      <td>22.0</td>\n",
              "      <td>179.0</td>\n",
              "      <td>0.99620</td>\n",
              "      <td>3.37</td>\n",
              "      <td>0.37</td>\n",
              "      <td>10.2</td>\n",
              "      <td>5</td>\n",
              "    </tr>\n",
              "    <tr>\n",
              "      <th>5007</th>\n",
              "      <td>7.1</td>\n",
              "      <td>0.32</td>\n",
              "      <td>0.30</td>\n",
              "      <td>9.90</td>\n",
              "      <td>0.041</td>\n",
              "      <td>63.0</td>\n",
              "      <td>192.0</td>\n",
              "      <td>0.99642</td>\n",
              "      <td>3.12</td>\n",
              "      <td>0.49</td>\n",
              "      <td>10.2</td>\n",
              "      <td>6</td>\n",
              "    </tr>\n",
              "  </tbody>\n",
              "</table>\n",
              "</div>"
            ],
            "text/plain": [
              "      fixed_acidity  volatile_acidity  citric_acid  ...  sulphates  alcohol  quality\n",
              "1840            7.7              0.31         0.26  ...       0.50     10.4        5\n",
              "1974            5.1              0.33         0.22  ...       0.38     12.5        7\n",
              "1016            8.9              0.38         0.40  ...       0.75     12.6        7\n",
              "1633            5.8              0.27         0.20  ...       0.37     10.2        5\n",
              "5007            7.1              0.32         0.30  ...       0.49     10.2        6\n",
              "\n",
              "[5 rows x 12 columns]"
            ]
          },
          "metadata": {
            "tags": []
          },
          "execution_count": 341
        }
      ]
    },
    {
      "cell_type": "code",
      "metadata": {
        "colab": {
          "base_uri": "https://localhost:8080/"
        },
        "id": "jpGPegZZeQVR",
        "outputId": "e2c76aa2-d11d-42c5-f730-7f44535e2f74"
      },
      "source": [
        "classWine.testeAlvos"
      ],
      "execution_count": 342,
      "outputs": [
        {
          "output_type": "execute_result",
          "data": {
            "text/plain": [
              "1840    1\n",
              "1974    1\n",
              "1016    0\n",
              "1633    1\n",
              "5007    1\n",
              "Name: style, dtype: int64"
            ]
          },
          "metadata": {
            "tags": []
          },
          "execution_count": 342
        }
      ]
    },
    {
      "cell_type": "code",
      "metadata": {
        "colab": {
          "base_uri": "https://localhost:8080/"
        },
        "id": "gFiT0om0hCJt",
        "outputId": "75bc2a1a-face-45f9-f67c-79b40698204d"
      },
      "source": [
        "classWine.previsoes"
      ],
      "execution_count": 343,
      "outputs": [
        {
          "output_type": "execute_result",
          "data": {
            "text/plain": [
              "array([1, 1, 0, 1, 1])"
            ]
          },
          "metadata": {
            "tags": []
          },
          "execution_count": 343
        }
      ]
    },
    {
      "cell_type": "code",
      "metadata": {
        "colab": {
          "base_uri": "https://localhost:8080/"
        },
        "id": "N-PMtsjxh-Wi",
        "outputId": "b4659187-54ed-458b-f17e-89e9967bb9c1"
      },
      "source": [
        "print(f'A acurácia com todos preditores foi de {classWine.apuracia}')"
      ],
      "execution_count": 344,
      "outputs": [
        {
          "output_type": "stream",
          "text": [
            "A acurácia com todos preditores foi de 0.9964102564102564\n"
          ],
          "name": "stdout"
        }
      ]
    },
    {
      "cell_type": "markdown",
      "metadata": {
        "id": "1cc6TSIfoIPX"
      },
      "source": [
        "###Aqui traremos os resultados relativos apenas ao preditor pH."
      ]
    },
    {
      "cell_type": "code",
      "metadata": {
        "id": "3TUpQuc-iO1w"
      },
      "source": [
        "#Aqui usaremos a variável auxVinhos novamente,porém usando apenas as colunas 'pH' e 'style' do data frame arquivo.\r\n",
        "#arquivo como parâmetros na chamada da função Classificador,\r\n",
        "#isso nos dará o resultado respectivo apenas a essas duas colunas.\r\n",
        "auxVinhos = Classificacao()\r\n",
        "auxVinhos.Classificador(arquivo.loc[0:, ['pH','style']])"
      ],
      "execution_count": 345,
      "outputs": []
    },
    {
      "cell_type": "code",
      "metadata": {
        "colab": {
          "base_uri": "https://localhost:8080/",
          "height": 204
        },
        "id": "W8Mw0UKaoE1e",
        "outputId": "f612fc15-e0c8-48a3-e450-d60f7e01bd50"
      },
      "source": [
        "classWine.testePreditores"
      ],
      "execution_count": 346,
      "outputs": [
        {
          "output_type": "execute_result",
          "data": {
            "text/html": [
              "<div>\n",
              "<style scoped>\n",
              "    .dataframe tbody tr th:only-of-type {\n",
              "        vertical-align: middle;\n",
              "    }\n",
              "\n",
              "    .dataframe tbody tr th {\n",
              "        vertical-align: top;\n",
              "    }\n",
              "\n",
              "    .dataframe thead th {\n",
              "        text-align: right;\n",
              "    }\n",
              "</style>\n",
              "<table border=\"1\" class=\"dataframe\">\n",
              "  <thead>\n",
              "    <tr style=\"text-align: right;\">\n",
              "      <th></th>\n",
              "      <th>pH</th>\n",
              "    </tr>\n",
              "  </thead>\n",
              "  <tbody>\n",
              "    <tr>\n",
              "      <th>2179</th>\n",
              "      <td>3.05</td>\n",
              "    </tr>\n",
              "    <tr>\n",
              "      <th>4544</th>\n",
              "      <td>3.33</td>\n",
              "    </tr>\n",
              "    <tr>\n",
              "      <th>2342</th>\n",
              "      <td>3.33</td>\n",
              "    </tr>\n",
              "    <tr>\n",
              "      <th>5172</th>\n",
              "      <td>3.15</td>\n",
              "    </tr>\n",
              "    <tr>\n",
              "      <th>1999</th>\n",
              "      <td>3.46</td>\n",
              "    </tr>\n",
              "  </tbody>\n",
              "</table>\n",
              "</div>"
            ],
            "text/plain": [
              "        pH\n",
              "2179  3.05\n",
              "4544  3.33\n",
              "2342  3.33\n",
              "5172  3.15\n",
              "1999  3.46"
            ]
          },
          "metadata": {
            "tags": []
          },
          "execution_count": 346
        }
      ]
    },
    {
      "cell_type": "code",
      "metadata": {
        "colab": {
          "base_uri": "https://localhost:8080/"
        },
        "id": "8JZRsisMpEXF",
        "outputId": "4fc77954-b7b0-4526-ab71-14564dcd15f8"
      },
      "source": [
        "classWine.testeAlvos"
      ],
      "execution_count": 347,
      "outputs": [
        {
          "output_type": "execute_result",
          "data": {
            "text/plain": [
              "2179    1\n",
              "4544    1\n",
              "2342    1\n",
              "5172    1\n",
              "1999    1\n",
              "Name: style, dtype: int64"
            ]
          },
          "metadata": {
            "tags": []
          },
          "execution_count": 347
        }
      ]
    },
    {
      "cell_type": "code",
      "metadata": {
        "colab": {
          "base_uri": "https://localhost:8080/"
        },
        "id": "8o3-9Ns5pM0e",
        "outputId": "21646a54-d9cd-466b-ef06-bce7ef84155b"
      },
      "source": [
        "classWine.previsoes"
      ],
      "execution_count": 348,
      "outputs": [
        {
          "output_type": "execute_result",
          "data": {
            "text/plain": [
              "array([1, 1, 1, 1, 0])"
            ]
          },
          "metadata": {
            "tags": []
          },
          "execution_count": 348
        }
      ]
    },
    {
      "cell_type": "code",
      "metadata": {
        "colab": {
          "base_uri": "https://localhost:8080/"
        },
        "id": "KQxkzBaOPmSE",
        "outputId": "6ed53b2b-1875-44ff-d498-16632afb2e9c"
      },
      "source": [
        "print(f'A acurácia usando apenas o preditor \"pH\" foi de {classWine.apuracia}')"
      ],
      "execution_count": 349,
      "outputs": [
        {
          "output_type": "stream",
          "text": [
            "A acurácia usando apenas o preditor \"pH\" foi de 0.7476923076923077\n"
          ],
          "name": "stdout"
        }
      ]
    },
    {
      "cell_type": "markdown",
      "metadata": {
        "id": "7rjgDvIgpgNN"
      },
      "source": [
        "##Como podemos ver,o preditor pH é o que tem mais peso pois sozinho já representa mais da metade da acurácia total.\r\n",
        "##Abaixo vamos imprimir a taxa de acurácia relativa a alguns dos outros preditores,podemos fazer com todos mas usaremos apenas alguns exemplos."
      ]
    },
    {
      "cell_type": "code",
      "metadata": {
        "colab": {
          "base_uri": "https://localhost:8080/"
        },
        "id": "zVaLUSjWrX9Y",
        "outputId": "d1c9905e-a1e6-4642-9683-50843cb4b6ac"
      },
      "source": [
        "#Aqui vamos obter a taxa de acurácia relativa ao preditor alcohol\r\n",
        "auxVinhos = Classificacao()\r\n",
        "auxVinhos.Classificador(arquivo.loc[0:, ['alcohol','style']])\r\n",
        "print(f'A acurácia usando apenas o preditor \"alcohol\" foi de {classWine.apuracia}')"
      ],
      "execution_count": 350,
      "outputs": [
        {
          "output_type": "stream",
          "text": [
            "A acurácia usando apenas o preditor \"alcohol\" foi de 0.742051282051282\n"
          ],
          "name": "stdout"
        }
      ]
    },
    {
      "cell_type": "code",
      "metadata": {
        "colab": {
          "base_uri": "https://localhost:8080/"
        },
        "id": "RRMbvaulspRK",
        "outputId": "80887317-6a04-473d-8dbb-2a9aac466a3f"
      },
      "source": [
        "#Aqui vamos obter a taxa de acurácia relativa ao preditor fixed_acidity\r\n",
        "auxVinhos = Classificacao()\r\n",
        "auxVinhos.Classificador(arquivo.loc[0:, ['fixed_acidity','style']])\r\n",
        "print(f'A acurácia usando apenas o preditor \"fixed_acidity\" foi de {classWine.apuracia}')"
      ],
      "execution_count": 351,
      "outputs": [
        {
          "output_type": "stream",
          "text": [
            "A acurácia usando apenas o preditor \"fixed_acidity\" foi de 0.8123076923076923\n"
          ],
          "name": "stdout"
        }
      ]
    },
    {
      "cell_type": "code",
      "metadata": {
        "colab": {
          "base_uri": "https://localhost:8080/"
        },
        "id": "UYgSL7R4s9cC",
        "outputId": "bf7a26e8-a6d8-40ae-9b16-095a25fae261"
      },
      "source": [
        "#Aqui vamos obter a taxa de acurácia relativa ao preditor total_sulfur_dioxide\r\n",
        "auxVinhos = Classificacao()\r\n",
        "auxVinhos.Classificador(arquivo.loc[0:, ['total_sulfur_dioxide','style']])\r\n",
        "print(f'A acurácia usando o preditor \"total_sulfur_dioxide\" foi de {classWine.apuracia}')"
      ],
      "execution_count": 352,
      "outputs": [
        {
          "output_type": "stream",
          "text": [
            "A acurácia usando o preditor \"total_sulfur_dioxide\" foi de 0.9241025641025641\n"
          ],
          "name": "stdout"
        }
      ]
    },
    {
      "cell_type": "markdown",
      "metadata": {
        "id": "I-BJhqJ2uhCv"
      },
      "source": [
        "A taxa de acurácia usando os preditores alcohol e quality fica sempre com um valor o menor valor,próximo a 0.75.\r\n",
        "A acurácia com o preditor fixed_acidity fica próxima de 0.8 e com o preditor total_sulfur_dioxide fica próxima de 0.9.\r\n",
        "\r\n",
        "O resultado mais eficiente com apenas um preditor foi quando usamos o preditor total_sulfur_dioxide."
      ]
    }
  ]
}